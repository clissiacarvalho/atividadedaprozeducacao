{
  "nbformat": 4,
  "nbformat_minor": 0,
  "metadata": {
    "colab": {
      "provenance": []
    },
    "kernelspec": {
      "name": "python3",
      "display_name": "Python 3"
    },
    "language_info": {
      "name": "python"
    }
  },
  "cells": [
    {
      "cell_type": "markdown",
      "source": [
        "**Escreva um programa que solicite ao usuário duas notas e calcule a média. Em seguida, o programa deve imprimir se o aluno foi aprovado (média >= 7) ou reprovado (média < 7).**\n"
      ],
      "metadata": {
        "id": "Wlfl-Jibyf83"
      }
    },
    {
      "cell_type": "code",
      "source": [
        "def calcular_media(nota1, nota2):\n",
        "    return (nota1 + nota2) / 2\n",
        "\n",
        "nota1 = float(input('Digite a primeira nota: '))\n",
        "nota2 = float(input('Digite a segunda nota: '))\n",
        "media = calcular_media(nota1, nota2)\n",
        "if media >= 7:\n",
        "    print(\"Parabéns, foi aprovado!\")\n",
        "else:\n",
        "    print(\"Ih, vamos conversar... Você foi reprovado!\")\n"
      ],
      "metadata": {
        "colab": {
          "base_uri": "https://localhost:8080/"
        },
        "id": "QiLr1dsVyAPR",
        "outputId": "fb491521-afca-4f82-a03a-5cecd2e3d2db"
      },
      "execution_count": null,
      "outputs": [
        {
          "output_type": "stream",
          "name": "stdout",
          "text": [
            "Digite a primeira nota: 6\n",
            "Digite a segunda nota: 8\n",
            "Parabéns, foi aprovado!\n"
          ]
        }
      ]
    },
    {
      "cell_type": "markdown",
      "source": [
        "\n",
        "**Crie um programa que receba o valor de um produto e um cupom de desconto. O\n",
        "programa deve calcular o valor final com o desconto aplicado e exibir na tela.**\n"
      ],
      "metadata": {
        "id": "v44GDJcqywSQ"
      }
    },
    {
      "cell_type": "code",
      "source": [
        "valor_produto = float(input('Digite o valor do produto: '))\n",
        "cupom_desconto = input('Digite o cupom de desconto: ')\n",
        "\n",
        "if cupom_desconto == 'DESC10':\n",
        "    desconto = valor_produto * 0.1\n",
        "elif cupom_desconto == 'DESC20':\n",
        "    desconto = valor_produto * 0.2\n",
        "else:\n",
        "    desconto = 0\n",
        "\n",
        "valor_final = valor_produto - desconto\n",
        "print(f'O valor final com desconto é: {valor_final:.2f}')\n"
      ],
      "metadata": {
        "colab": {
          "base_uri": "https://localhost:8080/"
        },
        "id": "ugBrNAnSy9c0",
        "outputId": "a1ce418d-4e2c-43ab-a01c-179c67284107"
      },
      "execution_count": null,
      "outputs": [
        {
          "output_type": "stream",
          "name": "stdout",
          "text": [
            "Digite o valor do produto: 200\n",
            "Digite o cupom de desconto: DESC20\n",
            "O valor final com desconto é: 160.00\n"
          ]
        }
      ]
    },
    {
      "cell_type": "markdown",
      "source": [
        "**Crie um programa que pergunte ao usuário o seu nome e a quantidade de vezes que deseja repetir uma mensagem de boas-vindas com o nome digitado.**"
      ],
      "metadata": {
        "id": "OmyMtxQ8zjWm"
      }
    },
    {
      "cell_type": "code",
      "source": [
        "nome = input('Digite o seu nome: ')\n",
        "repeticoes = int(input('Digite a quantidade de vezes que deseja repetir a mensagem: '))\n",
        "\n",
        "for i in range(repeticoes):\n",
        "    print(f'Bem-vindo, {nome}!')\n"
      ],
      "metadata": {
        "colab": {
          "base_uri": "https://localhost:8080/"
        },
        "id": "VofGfXJYz7AV",
        "outputId": "e9a70a78-8ac5-4dec-90c1-2bf566c3076b"
      },
      "execution_count": null,
      "outputs": [
        {
          "output_type": "stream",
          "name": "stdout",
          "text": [
            "Digite o seu nome: Clíssia\n",
            "Digite a quantidade de vezes que deseja repetir a mensagem: 5\n",
            "Bem-vindo, Clíssia!\n",
            "Bem-vindo, Clíssia!\n",
            "Bem-vindo, Clíssia!\n",
            "Bem-vindo, Clíssia!\n",
            "Bem-vindo, Clíssia!\n"
          ]
        }
      ]
    }
  ]
}