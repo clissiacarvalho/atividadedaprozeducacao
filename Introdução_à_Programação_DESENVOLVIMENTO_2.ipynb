{
  "nbformat": 4,
  "nbformat_minor": 0,
  "metadata": {
    "colab": {
      "provenance": [],
      "authorship_tag": "ABX9TyMkD9oRB/kMRutR+LZMtyDn",
      "include_colab_link": true
    },
    "kernelspec": {
      "name": "python3",
      "display_name": "Python 3"
    },
    "language_info": {
      "name": "python"
    }
  },
  "cells": [
    {
      "cell_type": "markdown",
      "metadata": {
        "id": "view-in-github",
        "colab_type": "text"
      },
      "source": [
        "<a href=\"https://colab.research.google.com/github/clissiacarvalho/atividadedaprozeducacao/blob/main/Introdu%C3%A7%C3%A3o_%C3%A0_Programa%C3%A7%C3%A3o_DESENVOLVIMENTO_2.ipynb\" target=\"_parent\"><img src=\"https://colab.research.google.com/assets/colab-badge.svg\" alt=\"Open In Colab\"/></a>"
      ]
    },
    {
      "cell_type": "code",
      "execution_count": 11,
      "metadata": {
        "id": "Kc-wUBy2OXCS",
        "colab": {
          "base_uri": "https://localhost:8080/"
        },
        "outputId": "7b7a00d4-b6e8-4c8a-f834-1878e8fda3d6"
      },
      "outputs": [
        {
          "output_type": "stream",
          "name": "stdout",
          "text": [
            "A\n",
            "B\n",
            "C\n",
            "E\n",
            "D\n"
          ]
        }
      ],
      "source": [
        "def habilitacao(rodas, peso, pessoas):\n",
        "    if rodas <= 3:\n",
        "        return \"A\"\n",
        "    elif rodas == 4:\n",
        "        if pessoas <= 8 and peso <= 3500:\n",
        "            return \"B\"\n",
        "        elif peso > 3500 and peso <= 6000:\n",
        "            return \"C\"\n",
        "        elif pessoas > 8:\n",
        "            return \"D\"\n",
        "        elif peso > 6000:\n",
        "            return \"E\"\n",
        "    elif rodas > 4:\n",
        "        if peso <= 6000:\n",
        "            return \"C\"\n",
        "        else:\n",
        "            return \"E\"\n",
        "\n",
        "        Exemplos\n",
        "\n",
        "print(habilitacao(2, 500, 2))\n",
        "print(habilitacao(4, 3000, 4))\n",
        "print(habilitacao(4, 4000, 4))\n",
        "print(habilitacao(4, 7000, 4))\n",
        "print(habilitacao(4, 3000, 9))\n"
      ]
    },
    {
      "cell_type": "markdown",
      "source": [],
      "metadata": {
        "id": "zKJIXvKzP2en"
      }
    }
  ]
}