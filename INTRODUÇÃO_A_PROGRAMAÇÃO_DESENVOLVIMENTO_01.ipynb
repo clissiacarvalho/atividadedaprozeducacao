{
  "nbformat": 4,
  "nbformat_minor": 0,
  "metadata": {
    "colab": {
      "provenance": []
    },
    "kernelspec": {
      "name": "python3",
      "display_name": "Python 3"
    },
    "language_info": {
      "name": "python"
    }
  },
  "cells": [
    {
      "cell_type": "code",
      "execution_count": null,
      "metadata": {
        "id": "hhIgJc_29x3y"
      },
      "outputs": [],
      "source": []
    },
    {
      "cell_type": "code",
      "source": [
        "nota = 10\n",
        "print(nota <= 10)\n",
        "\n",
        "notas = 6\n",
        "faltas = 4\n",
        "print(nota<=6) and (faltas <=3)\n",
        "\n",
        "convidados = 3\n",
        "fumantes = False\n",
        "print((convidados > 4) or (fumantes == True))\n",
        "\n",
        "dia = \"qua\"\n",
        "print((dia == \"sab\") or (dia == \"dom\"))\n",
        "\n",
        "Feriado = True\n",
        "print(not (Feriado == False))\n",
        "\n",
        "dia = \"ter\"\n",
        "feriado = False\n",
        "print((dia == \"seg\") or not (feriado == False))\n"
      ],
      "metadata": {
        "colab": {
          "base_uri": "https://localhost:8080/"
        },
        "id": "_knHi1r6BwyV",
        "outputId": "729585f7-72a3-43f2-ce5a-ff5df24eb2fe"
      },
      "execution_count": null,
      "outputs": [
        {
          "output_type": "stream",
          "name": "stdout",
          "text": [
            "True\n",
            "False\n",
            "False\n",
            "False\n",
            "True\n",
            "False\n"
          ]
        }
      ]
    },
    {
      "cell_type": "code",
      "source": [],
      "metadata": {
        "id": "GRC64MtmGVkA"
      },
      "execution_count": null,
      "outputs": []
    }
  ]
}