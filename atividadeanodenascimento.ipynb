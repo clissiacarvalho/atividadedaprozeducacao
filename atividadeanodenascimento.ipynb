{
  "nbformat": 4,
  "nbformat_minor": 0,
  "metadata": {
    "colab": {
      "provenance": []
    },
    "kernelspec": {
      "name": "python3",
      "display_name": "Python 3"
    },
    "language_info": {
      "name": "python"
    }
  },
  "cells": [
    {
      "cell_type": "code",
      "execution_count": null,
      "metadata": {
        "id": "1WYh6jk--wY7"
      },
      "outputs": [],
      "source": []
    },
    {
      "cell_type": "markdown",
      "source": [
        "Instruções do projeto\n",
        "Desenvolva um programa que recebe do usuário nome completo e ano de nascimento que seja entre 1922 e 2021.\n",
        "A partir dessas informações, o sistema mostrará o nome do usuário e a idade que completou, ou completará, no ano atual (2022).\n",
        "\n",
        "Caso o usuário não digite um número ou apareça um inválido no campo do ano, o sistema informará o erro e continuará perguntando até que um valor correto seja preenchido.\n"
      ],
      "metadata": {
        "id": "QrStWMQ_-29n"
      }
    },
    {
      "cell_type": "code",
      "source": [
        "nome = input(\"Digite seu nome completo: \")\n",
        "ano_nascimento = 0\n",
        "while True:\n",
        "    try:\n",
        "        ano_nascimento = int(input(\"Digite seu ano de nascimento (entre 1922 e 2021): \"))\n",
        "        if ano_nascimento < 1922 or ano_nascimento > 2021:\n",
        "            raise ValueError\n",
        "        break\n",
        "    except ValueError:\n",
        "        print(\"Erro: Ano de nascimento inválido. Por favor, digite um número entre 1922 e 2021.\")\n",
        "\n",
        "idade = 2022 - ano_nascimento\n",
        "print(f\"Olá, {nome}! Você completou ou completará {idade} anos em 2022.\")\n"
      ],
      "metadata": {
        "colab": {
          "base_uri": "https://localhost:8080/"
        },
        "id": "RHeUCaI7-35U",
        "outputId": "e7bab334-16ec-4e79-b8f7-506f284c03b9"
      },
      "execution_count": 1,
      "outputs": [
        {
          "output_type": "stream",
          "name": "stdout",
          "text": [
            "Digite seu nome completo: Clíssia\n",
            "Digite seu ano de nascimento (entre 1922 e 2021): 1992\n",
            "Olá, Clíssia! Você completou ou completará 30 anos em 2022.\n"
          ]
        }
      ]
    }
  ]
}