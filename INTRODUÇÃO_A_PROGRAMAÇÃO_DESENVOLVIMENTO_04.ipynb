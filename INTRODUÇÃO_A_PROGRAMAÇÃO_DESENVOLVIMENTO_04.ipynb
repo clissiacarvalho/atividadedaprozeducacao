{
  "nbformat": 4,
  "nbformat_minor": 0,
  "metadata": {
    "colab": {
      "provenance": []
    },
    "kernelspec": {
      "name": "python3",
      "display_name": "Python 3"
    },
    "language_info": {
      "name": "python"
    }
  },
  "cells": [
    {
      "cell_type": "markdown",
      "source": [],
      "metadata": {
        "id": "vGz9rivwABcF"
      }
    },
    {
      "cell_type": "markdown",
      "source": [
        "**Instruções do projeto**\n",
        "Faça uma função calculadora de dois números com três parâmetros: os dois primeiros serão os números da operação e o terceiro será a entrada que definirá a operação a ser executada. Considera a seguinte definição:\n",
        "1. Soma\n",
        "2. Subtração\n",
        "3. Multiplicação\n",
        "4. Divisão\n",
        "\n",
        "Caso seja inserido um número de operação que não exista, o resultado deverá ser 0.\n"
      ],
      "metadata": {
        "id": "A3Ceim4YADqG"
      }
    },
    {
      "cell_type": "code",
      "source": [
        "def calculadora(num1, num2, operacao):\n",
        "    if operacao == 1:\n",
        "        return num1 + num2\n",
        "    elif operacao == 2:\n",
        "        return num1 - num2\n",
        "    elif operacao == 3:\n",
        "        return num1 * num2\n",
        "    elif operacao == 4:\n",
        "        return num1 / num2\n",
        "    else:\n",
        "        return 0\n"
      ],
      "metadata": {
        "id": "DzhWBCTMAH9i"
      },
      "execution_count": 2,
      "outputs": []
    }
  ]
}