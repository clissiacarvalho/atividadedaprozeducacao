{
  "nbformat": 4,
  "nbformat_minor": 0,
  "metadata": {
    "colab": {
      "provenance": []
    },
    "kernelspec": {
      "name": "python3",
      "display_name": "Python 3"
    },
    "language_info": {
      "name": "python"
    }
  },
  "cells": [
    {
      "cell_type": "code",
      "execution_count": null,
      "metadata": {
        "id": "i0ALKLhjUzLi"
      },
      "outputs": [],
      "source": []
    },
    {
      "cell_type": "markdown",
      "source": [
        "Precisamos imprimir um número para cada andar de um hotel de 20 andares. Porém, o dono do hotel é supersticioso e optou por não ter um 13ro andar.\n",
        "\n",
        "Escreva um código que imprima todos os números exceto o número 13.\n",
        "Escreva mais dois códigos que resolvam o mesmo problema, mas dessa vez usando os outros dois tipos de laços de repetição aprendidos.\n",
        "\n",
        "Como desafio, imprima eles em ordem decrescente (20, 19, 18...)\n"
      ],
      "metadata": {
        "id": "o7fuD1vNWiNv"
      }
    },
    {
      "cell_type": "markdown",
      "source": [
        "Exemplo 01: usando while"
      ],
      "metadata": {
        "id": "antnDqpzWkuv"
      }
    },
    {
      "cell_type": "code",
      "source": [
        "i = 20\n",
        "while i >= 1:\n",
        "    if i != 13:\n",
        "        print(i)\n",
        "    i -= 1\n"
      ],
      "metadata": {
        "colab": {
          "base_uri": "https://localhost:8080/"
        },
        "id": "nElyU6vGWvZ8",
        "outputId": "012b846f-8367-459a-ee3d-c3e22e969608"
      },
      "execution_count": null,
      "outputs": [
        {
          "output_type": "stream",
          "name": "stdout",
          "text": [
            "20\n",
            "19\n",
            "18\n",
            "17\n",
            "16\n",
            "15\n",
            "14\n",
            "12\n",
            "11\n",
            "10\n",
            "9\n",
            "8\n",
            "7\n",
            "6\n",
            "5\n",
            "4\n",
            "3\n",
            "2\n",
            "1\n"
          ]
        }
      ]
    },
    {
      "cell_type": "markdown",
      "source": [
        "Exemplo 02: usando for"
      ],
      "metadata": {
        "id": "FXd2-5hNYfVx"
      }
    },
    {
      "cell_type": "code",
      "source": [
        "for i in range(20, 0, -1):\n",
        "    if i != 13:\n",
        "        print(i)\n"
      ],
      "metadata": {
        "colab": {
          "base_uri": "https://localhost:8080/"
        },
        "id": "Q2ZT0pixYk9f",
        "outputId": "1042611c-b513-4a36-ac87-d53ca3608fa0"
      },
      "execution_count": null,
      "outputs": [
        {
          "output_type": "stream",
          "name": "stdout",
          "text": [
            "20\n",
            "19\n",
            "18\n",
            "17\n",
            "16\n",
            "15\n",
            "14\n",
            "12\n",
            "11\n",
            "10\n",
            "9\n",
            "8\n",
            "7\n",
            "6\n",
            "5\n",
            "4\n",
            "3\n",
            "2\n",
            "1\n"
          ]
        }
      ]
    },
    {
      "cell_type": "markdown",
      "source": [
        "Exemplo 03: Usando do while"
      ],
      "metadata": {
        "id": "N74CwmhCYxQO"
      }
    },
    {
      "cell_type": "code",
      "source": [
        "i = 20\n",
        "while True:\n",
        "    if i != 13:\n",
        "        print(i)\n",
        "    i -= 1\n",
        "    if i < 1:\n",
        "        break\n"
      ],
      "metadata": {
        "id": "NwhvF2dcY9Wr",
        "outputId": "a398aa96-9d27-4a80-9f3e-5bb1b19eee27",
        "colab": {
          "base_uri": "https://localhost:8080/"
        }
      },
      "execution_count": null,
      "outputs": [
        {
          "output_type": "stream",
          "name": "stdout",
          "text": [
            "20\n",
            "19\n",
            "18\n",
            "17\n",
            "16\n",
            "15\n",
            "14\n",
            "12\n",
            "11\n",
            "10\n",
            "9\n",
            "8\n",
            "7\n",
            "6\n",
            "5\n",
            "4\n",
            "3\n",
            "2\n",
            "1\n"
          ]
        }
      ]
    }
  ]
}